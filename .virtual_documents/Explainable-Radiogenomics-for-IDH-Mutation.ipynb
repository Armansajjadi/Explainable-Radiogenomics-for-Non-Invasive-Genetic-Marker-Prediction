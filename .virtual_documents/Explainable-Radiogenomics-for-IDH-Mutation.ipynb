import numpy as np
import pandas as pd
import os
import pyvista as pv
import nibabel as nib
import SimpleITK as sitk
from IPython.display import Image, display
import matplotlib.pyplot as plt
from tqdm import tqdm


df = pd.read_csv("UCSF-PDGM-metadata_v5.csv")

df.head()


new_df = df[['ID', "IDH"]].copy()

new_df.head()


new_df['IDH_binary'] = (new_df['IDH'] != 'wildtype').astype(int)

final_df = new_df.drop(['IDH'], axis=1)

print("Final version:")
print(final_df['IDH_binary'].value_counts())

print('-' * 30)
final_df.head()


counts = final_df['IDH_binary'].value_counts()

plt.pie(counts, labels=counts.index.astype(str), autopct='%1.1f%%', startangle=90)
plt.title('IDH_binary Distribution')
plt.axis('equal')
plt.show()


base_path = "PKG - UCSF-PDGM Version 5/UCSF-PDGM-v5/UCSF-PDGM-0032_nifti/"

mri_filename = "UCSF-PDGM-0032_FLAIR_bias.nii.gz"
mri_filepath = os.path.join(base_path, mri_filename)

tumor_mask_filename = "UCSF-PDGM-0032_tumor_segmentation.nii.gz"
tumor_mask_filepath = os.path.join(base_path, tumor_mask_filename)

mri_img = nib.load(mri_filepath)
mri_data = mri_img.get_fdata()

tumor_mask_img = nib.load(tumor_mask_filepath)
tumor_mask_data = tumor_mask_img.get_fdata()

mri_grid = pv.wrap(mri_data)
tumor_grid = pv.wrap(tumor_mask_data)


brain_surface = mri_grid.contour([300]).smooth(n_iter=50, relaxation_factor=0.1)
tumor_surface = tumor_grid.contour([0.5]).smooth(n_iter=30)

plotter = pv.Plotter(off_screen=True, window_size=[500, 400])

plotter.add_mesh(brain_surface, color="white", opacity=0.2, specular=0.3, specular_power=10)
plotter.add_mesh(tumor_surface, color="#c70039", opacity=1.0)
plotter.enable_shadows()

plotter.camera_position = 'iso'

output_filename = "brain_tumor_3rd_person_view.gif"

path = plotter.generate_orbital_path(n_points=72)
plotter.open_gif(output_filename)
plotter.orbit_on_path(path, write_frames=True)
plotter.close()

display(Image(filename=output_filename))


def inspect_single_mri_scan(patient_folder_path, mri_filename):
    
    full_mri_path = os.path.join(patient_folder_path, mri_filename)

    print(f"--- Inspecting File: {full_mri_path} ---")

    if not os.path.exists(full_mri_path):
        print(f"Error: File not found at the specified path.")
        return

    try:
        image = sitk.ReadImage(full_mri_path)
        print("Successfully loaded the image.")
    except Exception as e:
        print(f"An error occurred while trying to read the file: {e}")
        return


    size = image.GetSize()
    print(f"Original Size (in voxels): {size}")

    spacing = image.GetSpacing()
    print(f"Original Spacing (in mm): {spacing}")
    
    print("-------------------------------------------\n")


base_data_directory = "PKG - UCSF-PDGM Version 5/UCSF-PDGM-v5"


patient_folder_name = "UCSF-PDGM-0520_nifti"

patient_id = patient_folder_name.replace("_nifti", "")

patient_folder_path = os.path.join(base_data_directory, patient_folder_name)

core_files = [
    f"{patient_id}_t1.nii.gz",
    f"{patient_id}_t1c.nii.gz",
    f"{patient_id}_t2.nii.gz",
    f"{patient_id}_flair.nii.gz",
    f"{patient_id}_tumor_segmentation.nii.gz"
]

if not os.path.isdir(patient_folder_path):
        print(f"Error: The patient folder was not found at: {patient_folder_path}")
        print("Please check the 'base_data_directory' and 'patient_folder_name' variables.")
else:
    for filename in core_files:
        inspect_single_mri_scan(patient_folder_path, filename)



def preprocess_image(image, target_size = (224,224,128), is_segmentation=False):

    original_size = image.GetSize()
    original_spacing = image.GetSpacing()

    new_spacing = [
        original_spacing[0] * (original_size[0] / target_size[0]),
        original_spacing[1] * (original_size[1] / target_size[1]),
        original_spacing[2] * (original_size[2] / target_size[2])
    ]

    interpolator = sitk.sitkLinear
    if is_segmentation:
        interpolator = sitk.sitkNearestNeighbor

    resampler = sitk.ResampleImageFilter()
    resampler.SetOutputSpacing(new_spacing)
    resampler.SetSize(target_size)
    resampler.SetOutputDirection(image.GetDirection())
    resampler.SetOutputOrigin(image.GetOrigin())
    resampler.SetTransform(sitk.Transform())
    resampler.SetInterpolator(interpolator)

    resampled_image = resampler.Execute(image)

    image_array = sitk.GetArrayFromImage(resampled_image)

    if is_segmentation:
        return image_array


    mean = np.mean(image_array)
    std = np.std(image_array)
    normalized_array = (image_array - mean) / (std + 1e-8)

    return normalized_array


# labels_df = final_df.copy()
# labels_dict = dict(zip(labels_df['ID'], labels_df['IDH_binary']))

# dataset_root = "PKG - UCSF-PDGM Version 5/UCSF-PDGM-v5"
# modalities = ['T1c_bias', 'T2_bias', 'FLAIR_bias']
# target_size = (224, 224, 128)

# X = []
# y = []

# subject_folders = [f for f in os.listdir(dataset_root)]

# for subject_folder in tqdm(subject_folders):
        
#     subject_id = subject_folder.replace('_nifti', '')

#     subject_suffix = subject_id.split('-')[-1].lstrip('0')

#     matched_label_row = labels_df[labels_df['ID'].str.endswith(subject_suffix)]
    
#     label = matched_label_row['IDH_binary'].values[0]
#     subject_path = os.path.join(dataset_root, subject_folder)
#     input_modalities = []
#     skip = False
#     for modality in modalities:
#         filename = f"{subject_id}_{modality}.nii.gz"
#         filepath = os.path.join(subject_path, filename)
#         image = sitk.ReadImage(filepath)
#         preprocessed = preprocess_image(image, target_size)
#         input_modalities.append(preprocessed)
#         image_tensor = np.stack(input_modalities, axis=0)  # (C, H, W, D)
#         X.append(image_tensor)
#         y.append(label)


# X = np.array(X)
# y = np.array(y)

# print("Finished loading data")
# print(f"X shape: {X.shape}, y shape: {y.shape}")
